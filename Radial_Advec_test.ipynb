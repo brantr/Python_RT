{
 "cells": [
  {
   "cell_type": "code",
   "execution_count": 2,
   "metadata": {},
   "outputs": [],
   "source": [
    "import numpy as np\n",
    "import matplotlib.pyplot as plt"
   ]
  },
  {
   "cell_type": "code",
   "execution_count": null,
   "metadata": {},
   "outputs": [],
   "source": [
    "# Section 3.1 of Kannan et al 2018\n",
    "# Initial values of params\n",
    "A0 = 40.\n",
    "r0 = 1.2\n",
    "sigma = 0.1\n",
    "c = 1.\n",
    "r = 2"
   ]
  },
  {
   "cell_type": "code",
   "execution_count": null,
   "metadata": {},
   "outputs": [],
   "source": [
    "# Energy, Flux, Arrays, Tensors\n",
    "E_r = A0 * np.exp(-(r - r0)**2/(2 * sigma))\n",
    "F_r = \n",
    "abs_F_r = c * E_r\n",
    "#f = np.abs(F_R)/ (c_redu * E_r)\n",
    "f = 1.\n",
    "chi = (3. + (4. * f)**2) / (5. + 2. * np.sqrt(4. - (3. * f)**2))\n",
    "D_tensor = \n",
    "P_r = E_r * D_tensor\n",
    "U_arr = np.array([E_r, F_r])"
   ]
  }
 ],
 "metadata": {
  "kernelspec": {
   "display_name": "Python 3",
   "language": "python",
   "name": "python3"
  },
  "language_info": {
   "codemirror_mode": {
    "name": "ipython",
    "version": 3
   },
   "file_extension": ".py",
   "mimetype": "text/x-python",
   "name": "python",
   "nbconvert_exporter": "python",
   "pygments_lexer": "ipython3",
   "version": "3.7.0"
  }
 },
 "nbformat": 4,
 "nbformat_minor": 2
}
