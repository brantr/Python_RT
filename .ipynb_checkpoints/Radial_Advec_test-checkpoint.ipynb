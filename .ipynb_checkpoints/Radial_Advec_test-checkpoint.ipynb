{
 "cells": [
  {
   "cell_type": "code",
   "execution_count": null,
   "metadata": {},
   "outputs": [],
   "source": [
    "import numpy as np\n",
    "import matplotlib as mpl\n",
    "import matplotlib.pyplot as plt\n",
    "from matplotlib.image import NonUniformImage\n",
    "from matplotlib import cm"
   ]
  },
  {
   "cell_type": "code",
   "execution_count": null,
   "metadata": {},
   "outputs": [],
   "source": [
    "# Section 3.1 of Kannan et al 2018\n",
    "# Initial values of params\n",
    "\n",
    "A0 = 40.\n",
    "r0 = 1.2\n",
    "sigma = 0.1\n",
    "c = 1.\n",
    "#r = 2"
   ]
  },
  {
   "cell_type": "code",
   "execution_count": null,
   "metadata": {},
   "outputs": [],
   "source": [
    "# Setting up the important variables\n",
    "# I have a few questions about time stepping...\n",
    "# Time is not yet included here\n",
    "\n",
    "r = np.linspace(1.2,2.,100)\n",
    "A_r = A0 * (r0 / r)\n",
    "E_r = A_r * np.exp(-(r - r0)**2/(2 * sigma**2))"
   ]
  },
  {
   "cell_type": "code",
   "execution_count": null,
   "metadata": {},
   "outputs": [],
   "source": [
    "# Not at all what we want it to look like\n",
    "# but the 2D histogram works\n",
    "\n",
    "H, x, y = np.histogram2d(r, E_r, bins=100)\n",
    "\n",
    "fig, axes = plt.subplots()\n",
    "axes.set_title('Photon Number Density vs r')\n",
    "axes.hist2d(x, y, bins=100, cmap='plasma')\n",
    "plt.show()"
   ]
  },
  {
   "cell_type": "code",
   "execution_count": null,
   "metadata": {},
   "outputs": [],
   "source": [
    "# What I have been working on a lot\n",
    "# Trying to make the plot look smoother like the two bottom plots in\n",
    "# the sample code below.\n",
    "# Not working yet\n",
    "\n",
    "#H, xedges, yedges = np.histogram2d(x, y)\n",
    "#fig = plt.figure(figsize=(8, 8))\n",
    "#ax = fig.add_subplot(111, title='Photon Number Density vs r', aspect='equal', xlim=xedges[[0, -1]], ylim=yedges[[0, -1]])\n",
    "#im = mpl.image.NonUniformImage(ax, interpolation='bilinear')\n",
    "#xcenters = (xedges[:-1] + xedges[1:]) / 2\n",
    "#ycenters = (yedges[:-1] + yedges[1:]) / 2\n",
    "#im.set_data(xcenters, ycenters, H)\n",
    "#print(im)\n",
    "#ax.images.append(im)\n",
    "#plt.show()"
   ]
  },
  {
   "cell_type": "code",
   "execution_count": null,
   "metadata": {},
   "outputs": [],
   "source": [
    "#Reference file taken from the web to figure out best visual package for a smooth 2D histogram\n",
    "'''\n",
    "This illustrates the NonUniformImage class.  It is not\n",
    "available via an Axes method but it is easily added to an\n",
    "Axes instance as shown here.\n",
    "'''\n",
    "\n",
    "interp = 'nearest'\n",
    "\n",
    "# Linear x array for cell centers:\n",
    "x = np.linspace(-4, 4, 9)\n",
    "\n",
    "# Highly nonlinear x array:\n",
    "x2 = x**3\n",
    "\n",
    "y = np.linspace(-4, 4, 9)\n",
    "\n",
    "z = np.sqrt(x[np.newaxis, :]**2 + y[:, np.newaxis]**2)\n",
    "\n",
    "fig, axs = plt.subplots(nrows=2, ncols=2)\n",
    "fig.subplots_adjust(bottom=0.07, hspace=0.3)\n",
    "fig.suptitle('NonUniformImage class', fontsize='large')\n",
    "ax = axs[0, 0]\n",
    "im = NonUniformImage(ax, interpolation=interp, extent=(-4, 4, -4, 4),\n",
    "                     cmap=cm.Purples)\n",
    "im.set_data(x, y, z)\n",
    "ax.images.append(im)\n",
    "ax.set_xlim(-4, 4)\n",
    "ax.set_ylim(-4, 4)\n",
    "ax.set_title(interp)\n",
    "\n",
    "ax = axs[0, 1]\n",
    "im = NonUniformImage(ax, interpolation=interp, extent=(-64, 64, -4, 4),\n",
    "                     cmap=cm.Purples)\n",
    "im.set_data(x2, y, z)\n",
    "ax.images.append(im)\n",
    "ax.set_xlim(-64, 64)\n",
    "ax.set_ylim(-4, 4)\n",
    "ax.set_title(interp)\n",
    "\n",
    "interp = 'bilinear'\n",
    "\n",
    "ax = axs[1, 0]\n",
    "im = NonUniformImage(ax, interpolation=interp, extent=(-4, 4, -4, 4),\n",
    "                     cmap=cm.Purples)\n",
    "im.set_data(x, y, z)\n",
    "ax.images.append(im)\n",
    "ax.set_xlim(-4, 4)\n",
    "ax.set_ylim(-4, 4)\n",
    "ax.set_title(interp)\n",
    "\n",
    "ax = axs[1, 1]\n",
    "im = NonUniformImage(ax, interpolation=interp, extent=(-64, 64, -4, 4),\n",
    "                     cmap=cm.Purples)\n",
    "im.set_data(x2, y, z)\n",
    "ax.images.append(im)\n",
    "ax.set_xlim(-64, 64)\n",
    "ax.set_ylim(-4, 4)\n",
    "ax.set_title(interp)\n",
    "\n",
    "plt.show()"
   ]
  },
  {
   "cell_type": "code",
   "execution_count": null,
   "metadata": {},
   "outputs": [],
   "source": [
    "# Energy, Flux, Arrays, Tensors\n",
    "# Not necessary for this problem but useful in the future\n",
    "\n",
    "#F_r  \n",
    "#abs_F_r = c * E_r\n",
    "#f = np.abs(F_R)/ (c_redu * E_r)\n",
    "#f = 1.\n",
    "#chi = (3. + (4. * f)**2) / (5. + 2. * np.sqrt(4. - (3. * f)**2))\n",
    "#D_tensor = \n",
    "#P_r = E_r * D_tensor\n",
    "#U_arr = np.array([E_r, F_r])"
   ]
  }
 ],
 "metadata": {
  "kernelspec": {
   "display_name": "Python 3",
   "language": "python",
   "name": "python3"
  },
  "language_info": {
   "codemirror_mode": {
    "name": "ipython",
    "version": 3
   },
   "file_extension": ".py",
   "mimetype": "text/x-python",
   "name": "python",
   "nbconvert_exporter": "python",
   "pygments_lexer": "ipython3",
   "version": "3.7.0"
  }
 },
 "nbformat": 4,
 "nbformat_minor": 2
}
